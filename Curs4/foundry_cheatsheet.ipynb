{
 "cells": [
  {
   "cell_type": "markdown",
   "id": "ce30fc40",
   "metadata": {},
   "source": [
    "# install pyperclip"
   ]
  },
  {
   "cell_type": "code",
   "execution_count": 1,
   "id": "ebe7166a",
   "metadata": {},
   "outputs": [],
   "source": [
    "import os\n",
    "import time\n",
    "import subprocess\n",
    "import pathlib\n",
    "import json\n",
    "import pyperclip \n",
    "\n"
   ]
  },
  {
   "cell_type": "code",
   "execution_count": 7,
   "id": "6cbe5ecc",
   "metadata": {},
   "outputs": [],
   "source": [
    "def copy(command):\n",
    "    print(command)\n",
    "    pyperclip.copy(command)\n",
    "    #subprocess.call(command, shell=True)"
   ]
  },
  {
   "cell_type": "markdown",
   "id": "01d08e6a",
   "metadata": {},
   "source": [
    "# Download foundry (https://getfoundry.sh/)"
   ]
  },
  {
   "cell_type": "code",
   "execution_count": 5,
   "id": "c3e253ca",
   "metadata": {},
   "outputs": [
    {
     "name": "stdout",
     "output_type": "stream",
     "text": [
      "curl -L https://foundry.paradigm.xyz | bash\n"
     ]
    }
   ],
   "source": [
    "DOWNLOAD_FOUNDRY_COMMAND = \"curl -L https://foundry.paradigm.xyz | bash\"\n",
    "copy(DOWNLOAD_FOUNDRY_COMMAND)"
   ]
  },
  {
   "cell_type": "markdown",
   "id": "7acfef00",
   "metadata": {},
   "source": [
    "# Install Foundry (https://getfoundry.sh/)"
   ]
  },
  {
   "cell_type": "code",
   "execution_count": 8,
   "id": "4a25640e",
   "metadata": {},
   "outputs": [
    {
     "name": "stdout",
     "output_type": "stream",
     "text": [
      "foundryup\n"
     ]
    }
   ],
   "source": [
    "INSTALL_FOUNDRY_COMMAND = \"foundryup\"\n",
    "copy(INSTALL_FOUNDRY_COMMAND)"
   ]
  },
  {
   "cell_type": "markdown",
   "id": "7a9604d8",
   "metadata": {},
   "source": [
    "# Initializare Proiect"
   ]
  },
  {
   "cell_type": "markdown",
   "id": "0436751e",
   "metadata": {},
   "source": [
    "Daca nu exista nimic in folder"
   ]
  },
  {
   "cell_type": "code",
   "execution_count": 10,
   "id": "e047835b",
   "metadata": {},
   "outputs": [
    {
     "name": "stdout",
     "output_type": "stream",
     "text": [
      "forge init\n"
     ]
    }
   ],
   "source": [
    "INIT_PROJECT_IN_EMPTY_FOLDER = \"forge init\"\n",
    "copy(INIT_PROJECT_IN_EMPTY_FOLDER)"
   ]
  },
  {
   "cell_type": "markdown",
   "id": "53565cd3",
   "metadata": {},
   "source": [
    "Daca exista un fisier in folder"
   ]
  },
  {
   "cell_type": "code",
   "execution_count": 11,
   "id": "e86f614c",
   "metadata": {},
   "outputs": [
    {
     "name": "stdout",
     "output_type": "stream",
     "text": [
      "forge init --force\n"
     ]
    }
   ],
   "source": [
    "INIT_PROJECT_INSIDE_CURRENT_FOLDER = \"forge init --force\"\n",
    "copy(INIT_PROJECT_INSIDE_CURRENT_FOLDER)"
   ]
  },
  {
   "cell_type": "markdown",
   "id": "5428869b",
   "metadata": {},
   "source": [
    "Alternativ, daca vrei sa creeze un folder cu un anumit nume"
   ]
  },
  {
   "cell_type": "code",
   "execution_count": 9,
   "id": "37104f23",
   "metadata": {},
   "outputs": [
    {
     "name": "stdout",
     "output_type": "stream",
     "text": [
      "forge init LinkNFT\n"
     ]
    }
   ],
   "source": [
    "FOLDER_NAME =   input(\"Ce nume trebuie sa aibe folderul pe care il creez?\")   #\"test_name\"\n",
    "\n",
    "INIT_PROJECT_WITH_FOLDER_NAME = f\"forge init {FOLDER_NAME}\"\n",
    "copy(INIT_PROJECT_WITH_FOLDER_NAME)"
   ]
  },
  {
   "cell_type": "markdown",
   "id": "f72c2a09",
   "metadata": {},
   "source": [
    "# Rulare Blockchain Local  (Anvil)"
   ]
  },
  {
   "cell_type": "markdown",
   "id": "5aad1833",
   "metadata": {},
   "source": [
    "!ATENTIE : Deschideti un terminal"
   ]
  },
  {
   "cell_type": "markdown",
   "id": "f0853c88",
   "metadata": {},
   "source": [
    "Rulare simpla"
   ]
  },
  {
   "cell_type": "code",
   "execution_count": 14,
   "id": "f31d45e5",
   "metadata": {},
   "outputs": [],
   "source": [
    "anvil_start = \"anvil\"\n",
    "copy(anvil_start)"
   ]
  },
  {
   "cell_type": "markdown",
   "id": "2a5a1c85",
   "metadata": {},
   "source": [
    "Rulare cu mai multe conturi si balante"
   ]
  },
  {
   "cell_type": "code",
   "execution_count": 12,
   "id": "ee7cd9e3",
   "metadata": {},
   "outputs": [
    {
     "name": "stdout",
     "output_type": "stream",
     "text": [
      "anvil --accounts 20 --balance 3000\n"
     ]
    }
   ],
   "source": [
    "no_of_accounts = 20\n",
    "balance_per_account = 3000\n",
    "anvil_start_with_accounts =  f\"anvil --accounts {no_of_accounts} --balance {balance_per_account}\"\n",
    "copy(anvil_start_with_accounts)"
   ]
  },
  {
   "cell_type": "markdown",
   "id": "c5bdfcd0",
   "metadata": {},
   "source": [
    "# Crearea de builduri (echivalentul compile din Remix)"
   ]
  },
  {
   "cell_type": "code",
   "execution_count": 4,
   "id": "668f6d0a",
   "metadata": {},
   "outputs": [
    {
     "name": "stdout",
     "output_type": "stream",
     "text": [
      "forge build\n"
     ]
    }
   ],
   "source": [
    "forge_build = \"forge build\"\n",
    "copy(forge_build)"
   ]
  },
  {
   "cell_type": "markdown",
   "id": "c781d633",
   "metadata": {},
   "source": [
    "# Stergerea de build-uri"
   ]
  },
  {
   "cell_type": "code",
   "execution_count": 5,
   "id": "68163924",
   "metadata": {},
   "outputs": [
    {
     "name": "stdout",
     "output_type": "stream",
     "text": [
      "forge clean\n"
     ]
    }
   ],
   "source": [
    "forge_build = \"forge clean\"\n",
    "copy(forge_build)"
   ]
  },
  {
   "cell_type": "markdown",
   "id": "bc41e674",
   "metadata": {},
   "source": [
    "# Instalare contracte"
   ]
  },
  {
   "cell_type": "markdown",
   "id": "b097124c",
   "metadata": {},
   "source": [
    "In caz de eroare dati un commit inainte"
   ]
  },
  {
   "cell_type": "code",
   "execution_count": 13,
   "id": "d66e9133",
   "metadata": {},
   "outputs": [
    {
     "name": "stdout",
     "output_type": "stream",
     "text": [
      "forge install OpenZeppelin/openzeppelin-contracts\n"
     ]
    }
   ],
   "source": [
    "intall_oz = \"forge install OpenZeppelin/openzeppelin-contracts\"   # + \"--no-commit\" ## versiuni mai vechi\n",
    "copy(intall_oz)"
   ]
  },
  {
   "cell_type": "markdown",
   "id": "630210bc",
   "metadata": {},
   "source": [
    "Alte posibile librarii\n"
   ]
  },
  {
   "cell_type": "code",
   "execution_count": 15,
   "id": "37af1aa5",
   "metadata": {},
   "outputs": [
    {
     "name": "stdout",
     "output_type": "stream",
     "text": [
      "forge install eth-infinitism/account-abstraction\n"
     ]
    }
   ],
   "source": [
    "install_account_abstraction = \"forge install eth-infinitism/account-abstraction\"\n",
    "copy(install_account_abstraction)"
   ]
  },
  {
   "cell_type": "markdown",
   "id": "fe081c7b",
   "metadata": {},
   "source": [
    "# Creare remappings"
   ]
  },
  {
   "cell_type": "code",
   "execution_count": 15,
   "id": "09ea2b7e",
   "metadata": {},
   "outputs": [
    {
     "name": "stdout",
     "output_type": "stream",
     "text": [
      "forge remappings > remappings.txt\n"
     ]
    }
   ],
   "source": [
    "forge_remappings  = \"forge remappings > remappings.txt\"\n",
    "copy(forge_remappings)"
   ]
  },
  {
   "cell_type": "markdown",
   "id": "379811a5",
   "metadata": {},
   "source": [
    "# Rularea testelor"
   ]
  },
  {
   "cell_type": "code",
   "execution_count": 8,
   "id": "e941e149",
   "metadata": {},
   "outputs": [
    {
     "name": "stdout",
     "output_type": "stream",
     "text": [
      "forge test\n"
     ]
    }
   ],
   "source": [
    "forge_test  =\"forge test\"\n",
    "copy(forge_test)"
   ]
  },
  {
   "cell_type": "markdown",
   "id": "ab9accd5",
   "metadata": {},
   "source": [
    "Rularea unui singur test"
   ]
  },
  {
   "cell_type": "code",
   "execution_count": 12,
   "id": "db73f8bb",
   "metadata": {},
   "outputs": [
    {
     "name": "stdout",
     "output_type": "stream",
     "text": [
      "forge test --match-test test_Increment\n"
     ]
    }
   ],
   "source": [
    "test_name_example = input(\"Ce contract vrei sa testezi? Apasa ENTER daca vrei forge test --match-test test_Increment din CounterTest\") or \"test_Increment\"\n",
    "# test_name_example = 'replace'\n",
    "test_single_test = f\"forge test --match-test {test_name_example}\"\n",
    "copy(test_single_test)"
   ]
  },
  {
   "cell_type": "markdown",
   "id": "9d99a4ea",
   "metadata": {},
   "source": [
    "# Deploy de contracte (Direct fara script)"
   ]
  },
  {
   "cell_type": "code",
   "execution_count": 17,
   "id": "d29e458c",
   "metadata": {},
   "outputs": [],
   "source": [
    "BROADCAST_TO_ANVIL = \"--broadcast --rpc-url http://localhost:8545\"\n",
    "\n",
    "private_key = \"--private-key 0xac0974bec39a17e36ba4a6b4d238ff944bacb478cbed5efcae784d7bf4f2ff80\""
   ]
  },
  {
   "cell_type": "code",
   "execution_count": 18,
   "id": "da3ec86c",
   "metadata": {},
   "outputs": [
    {
     "name": "stdout",
     "output_type": "stream",
     "text": [
      "forge create src/Counter.sol:Counter --broadcast --rpc-url http://localhost:8545 --private-key 0xac0974bec39a17e36ba4a6b4d238ff944bacb478cbed5efcae784d7bf4f2ff80\n"
     ]
    }
   ],
   "source": [
    "contract_name = input(\"Ce contract vrei sa depui(deploy)? Apasa ENTER daca vrei Counter.sol\") or \"Counter\"\n",
    "\n",
    "\n",
    "deploy_command = f\"forge create src/{contract_name}.sol:{contract_name} {BROADCAST_TO_ANVIL} {private_key}\"\n",
    "\n",
    "copy(deploy_command)\n",
    "\n"
   ]
  },
  {
   "cell_type": "markdown",
   "id": "140b4b5c",
   "metadata": {},
   "source": [
    "# Deploy de contract (Prin Script)"
   ]
  },
  {
   "cell_type": "code",
   "execution_count": 19,
   "id": "ee6ba458",
   "metadata": {},
   "outputs": [
    {
     "name": "stdout",
     "output_type": "stream",
     "text": [
      "forge script script/Counter.s.sol  --broadcast --rpc-url http://localhost:8545 --private-key 0xac0974bec39a17e36ba4a6b4d238ff944bacb478cbed5efcae784d7bf4f2ff80\n"
     ]
    }
   ],
   "source": [
    "script_name = input(\"Ce script vrei sa rulezi? Apasa ENTER daca vrei Counter.s.sol\") or \"Counter.s.sol\"\n",
    "\n",
    "if not script_name.endswith(\".s.sol\"):\n",
    "    script_name += \".s.sol\"\n",
    "\n",
    "deploy_script = f\"forge script script/{script_name}  {BROADCAST_TO_ANVIL} {private_key}\"\n",
    "copy(deploy_script)"
   ]
  },
  {
   "cell_type": "markdown",
   "id": "e86a9184",
   "metadata": {},
   "source": [
    "# Rularea \"coverage\""
   ]
  },
  {
   "cell_type": "code",
   "execution_count": 17,
   "id": "0a775037",
   "metadata": {},
   "outputs": [],
   "source": [
    "test_coverage = \"forge coverage\"\n",
    "copy(test_coverage)"
   ]
  },
  {
   "cell_type": "markdown",
   "id": "debb9e76",
   "metadata": {},
   "source": [
    "# Stergere Foundry template"
   ]
  },
  {
   "cell_type": "code",
   "execution_count": null,
   "id": "4a7afa3e",
   "metadata": {},
   "outputs": [],
   "source": [
    "os.remove(\"src/Counter.sol\")\n",
    "os.remove(\"script/Counter.s.sol\")\n",
    "os.remove(\"test/Counter.t.sol\")"
   ]
  },
  {
   "cell_type": "markdown",
   "id": "03cc2282",
   "metadata": {},
   "source": [
    "# Image to base64"
   ]
  },
  {
   "cell_type": "code",
   "execution_count": 20,
   "id": "c9096d13",
   "metadata": {},
   "outputs": [
    {
     "name": "stdout",
     "output_type": "stream",
     "text": [
      "base64 -i carte_de_vizita.svg\n"
     ]
    }
   ],
   "source": [
    "image_filename = input(\"Ce nume de fisier vrei sa convertesti? ENTER pentru default carte_de_vizita.svg\") or \"carte_de_vizita.svg\"\n",
    "convert_to_base64 = f\"base64 -i {image_filename}\"\n",
    "copy(convert_to_base64)"
   ]
  },
  {
   "cell_type": "markdown",
   "id": "90389250",
   "metadata": {},
   "source": [
    "# Adaugare in toml pentru citire"
   ]
  },
  {
   "cell_type": "markdown",
   "id": "53a750eb",
   "metadata": {},
   "source": [
    "Se adauga in foundry.toml"
   ]
  },
  {
   "cell_type": "code",
   "execution_count": 23,
   "id": "37971f1c",
   "metadata": {},
   "outputs": [
    {
     "name": "stdout",
     "output_type": "stream",
     "text": [
      "\n",
      "fs_permissions = [\n",
      "    { access = \"read-write\", path = \"./scripts/\" }\n",
      "]\n"
     ]
    }
   ],
   "source": [
    "allow_write = \"\"\"\n",
    "fs_permissions = [\n",
    "    { access = \"read-write\", path = \"./scripts/\" }\n",
    "]\"\"\"\n",
    "copy(allow_write)"
   ]
  },
  {
   "cell_type": "markdown",
   "id": "a0b6d788",
   "metadata": {},
   "source": [
    "# Pentru a scrie adresa unui contract"
   ]
  },
  {
   "cell_type": "code",
   "execution_count": 18,
   "id": "e831675a",
   "metadata": {},
   "outputs": [
    {
     "name": "stdout",
     "output_type": "stream",
     "text": [
      "string memory path = string.concat(vm.projectRoot(), \"/scripts/contract_address.json\");\n",
      "        string memory json = string.concat(\n",
      "            '{\"address\": \"', vm.toString(address(counter)), '\"}'\n",
      "        );\n",
      "        vm.writeFile(path, json);\n"
     ]
    }
   ],
   "source": [
    "solidity_code_write_address_to_file = \"\"\"string memory path = string.concat(vm.projectRoot(), \"/scripts/contract_address.json\");\n",
    "        string memory json = string.concat(\n",
    "            '{\"address\": \"', vm.toString(address(counter)), '\"}'\n",
    "        );\n",
    "        vm.writeFile(path, json);\"\"\"\n",
    "copy(solidity_code_write_address_to_file)"
   ]
  },
  {
   "cell_type": "code",
   "execution_count": null,
   "id": "ec3c0db7",
   "metadata": {},
   "outputs": [],
   "source": []
  },
  {
   "cell_type": "markdown",
   "id": "c13d29ca",
   "metadata": {},
   "source": [
    "# Django SVG response"
   ]
  },
  {
   "cell_type": "code",
   "execution_count": 21,
   "id": "35c30fd7",
   "metadata": {},
   "outputs": [
    {
     "name": "stdout",
     "output_type": "stream",
     "text": [
      "\n",
      "svg_content = \"\"\n",
      "return HttpResponse(svg_content, content_type='image/svg+xml')\n"
     ]
    }
   ],
   "source": [
    "django_return = \"\"\"\n",
    "svg_content = \"\"\n",
    "return HttpResponse(svg_content, content_type='image/svg+xml')\"\"\"\n",
    "\n",
    "copy(django_return)\n",
    "\n"
   ]
  }
 ],
 "metadata": {
  "kernelspec": {
   "display_name": "Python 3",
   "language": "python",
   "name": "python3"
  },
  "language_info": {
   "codemirror_mode": {
    "name": "ipython",
    "version": 3
   },
   "file_extension": ".py",
   "mimetype": "text/x-python",
   "name": "python",
   "nbconvert_exporter": "python",
   "pygments_lexer": "ipython3",
   "version": "3.13.3"
  }
 },
 "nbformat": 4,
 "nbformat_minor": 5
}
